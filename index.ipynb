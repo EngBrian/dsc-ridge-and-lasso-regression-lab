{
 "cells": [
  {
   "cell_type": "markdown",
   "metadata": {},
   "source": [
    "# Ridge and Lasso Regression - Lab"
   ]
  },
  {
   "cell_type": "markdown",
   "metadata": {},
   "source": [
    "## Introduction"
   ]
  },
  {
   "cell_type": "markdown",
   "metadata": {},
   "source": [
    "In this lab, you'll practice your knowledge of ridge and lasso regression!"
   ]
  },
  {
   "cell_type": "markdown",
   "metadata": {},
   "source": [
    "## Objectives"
   ]
  },
  {
   "cell_type": "markdown",
   "metadata": {},
   "source": [
    "In this lab you will: \n",
    "\n",
    "- Use lasso and ridge regression with scikit-learn \n",
    "- Compare and contrast lasso, ridge and non-regularized regression "
   ]
  },
  {
   "cell_type": "markdown",
   "metadata": {},
   "source": [
    "## Housing Prices Data"
   ]
  },
  {
   "cell_type": "markdown",
   "metadata": {},
   "source": [
    "We'll use this version of the Ames Housing dataset: "
   ]
  },
  {
   "cell_type": "code",
   "execution_count": 1,
   "metadata": {},
   "outputs": [
    {
     "name": "stdout",
     "output_type": "stream",
     "text": [
      "<class 'pandas.core.frame.DataFrame'>\n",
      "Index: 1460 entries, 1 to 1460\n",
      "Data columns (total 80 columns):\n",
      " #   Column         Non-Null Count  Dtype  \n",
      "---  ------         --------------  -----  \n",
      " 0   MSSubClass     1460 non-null   int64  \n",
      " 1   MSZoning       1460 non-null   object \n",
      " 2   LotFrontage    1201 non-null   float64\n",
      " 3   LotArea        1460 non-null   int64  \n",
      " 4   Street         1460 non-null   object \n",
      " 5   Alley          91 non-null     object \n",
      " 6   LotShape       1460 non-null   object \n",
      " 7   LandContour    1460 non-null   object \n",
      " 8   Utilities      1460 non-null   object \n",
      " 9   LotConfig      1460 non-null   object \n",
      " 10  LandSlope      1460 non-null   object \n",
      " 11  Neighborhood   1460 non-null   object \n",
      " 12  Condition1     1460 non-null   object \n",
      " 13  Condition2     1460 non-null   object \n",
      " 14  BldgType       1460 non-null   object \n",
      " 15  HouseStyle     1460 non-null   object \n",
      " 16  OverallQual    1460 non-null   int64  \n",
      " 17  OverallCond    1460 non-null   int64  \n",
      " 18  YearBuilt      1460 non-null   int64  \n",
      " 19  YearRemodAdd   1460 non-null   int64  \n",
      " 20  RoofStyle      1460 non-null   object \n",
      " 21  RoofMatl       1460 non-null   object \n",
      " 22  Exterior1st    1460 non-null   object \n",
      " 23  Exterior2nd    1460 non-null   object \n",
      " 24  MasVnrType     588 non-null    object \n",
      " 25  MasVnrArea     1452 non-null   float64\n",
      " 26  ExterQual      1460 non-null   object \n",
      " 27  ExterCond      1460 non-null   object \n",
      " 28  Foundation     1460 non-null   object \n",
      " 29  BsmtQual       1423 non-null   object \n",
      " 30  BsmtCond       1423 non-null   object \n",
      " 31  BsmtExposure   1422 non-null   object \n",
      " 32  BsmtFinType1   1423 non-null   object \n",
      " 33  BsmtFinSF1     1460 non-null   int64  \n",
      " 34  BsmtFinType2   1422 non-null   object \n",
      " 35  BsmtFinSF2     1460 non-null   int64  \n",
      " 36  BsmtUnfSF      1460 non-null   int64  \n",
      " 37  TotalBsmtSF    1460 non-null   int64  \n",
      " 38  Heating        1460 non-null   object \n",
      " 39  HeatingQC      1460 non-null   object \n",
      " 40  CentralAir     1460 non-null   object \n",
      " 41  Electrical     1459 non-null   object \n",
      " 42  1stFlrSF       1460 non-null   int64  \n",
      " 43  2ndFlrSF       1460 non-null   int64  \n",
      " 44  LowQualFinSF   1460 non-null   int64  \n",
      " 45  GrLivArea      1460 non-null   int64  \n",
      " 46  BsmtFullBath   1460 non-null   int64  \n",
      " 47  BsmtHalfBath   1460 non-null   int64  \n",
      " 48  FullBath       1460 non-null   int64  \n",
      " 49  HalfBath       1460 non-null   int64  \n",
      " 50  BedroomAbvGr   1460 non-null   int64  \n",
      " 51  KitchenAbvGr   1460 non-null   int64  \n",
      " 52  KitchenQual    1460 non-null   object \n",
      " 53  TotRmsAbvGrd   1460 non-null   int64  \n",
      " 54  Functional     1460 non-null   object \n",
      " 55  Fireplaces     1460 non-null   int64  \n",
      " 56  FireplaceQu    770 non-null    object \n",
      " 57  GarageType     1379 non-null   object \n",
      " 58  GarageYrBlt    1379 non-null   float64\n",
      " 59  GarageFinish   1379 non-null   object \n",
      " 60  GarageCars     1460 non-null   int64  \n",
      " 61  GarageArea     1460 non-null   int64  \n",
      " 62  GarageQual     1379 non-null   object \n",
      " 63  GarageCond     1379 non-null   object \n",
      " 64  PavedDrive     1460 non-null   object \n",
      " 65  WoodDeckSF     1460 non-null   int64  \n",
      " 66  OpenPorchSF    1460 non-null   int64  \n",
      " 67  EnclosedPorch  1460 non-null   int64  \n",
      " 68  3SsnPorch      1460 non-null   int64  \n",
      " 69  ScreenPorch    1460 non-null   int64  \n",
      " 70  PoolArea       1460 non-null   int64  \n",
      " 71  PoolQC         7 non-null      object \n",
      " 72  Fence          281 non-null    object \n",
      " 73  MiscFeature    54 non-null     object \n",
      " 74  MiscVal        1460 non-null   int64  \n",
      " 75  MoSold         1460 non-null   int64  \n",
      " 76  YrSold         1460 non-null   int64  \n",
      " 77  SaleType       1460 non-null   object \n",
      " 78  SaleCondition  1460 non-null   object \n",
      " 79  SalePrice      1460 non-null   int64  \n",
      "dtypes: float64(3), int64(34), object(43)\n",
      "memory usage: 923.9+ KB\n"
     ]
    }
   ],
   "source": [
    "# Run this cell without changes\n",
    "import pandas as pd\n",
    "import warnings\n",
    "warnings.filterwarnings('ignore')\n",
    "df = pd.read_csv('housing_prices.csv', index_col=0)\n",
    "df.info()"
   ]
  },
  {
   "cell_type": "markdown",
   "metadata": {},
   "source": [
    "More information about the features is available in the `data_description.txt` file in this repository."
   ]
  },
  {
   "cell_type": "markdown",
   "metadata": {},
   "source": [
    "## Data Preparation\n",
    "\n",
    "The code below:\n",
    "\n",
    "* Separates the data into `X` (predictor) and `y` (target) variables\n",
    "* Splits the data into 75-25 training-test sets, with a `random_state` of 10\n",
    "* Separates each of the `X` values into continuous vs. categorical features\n",
    "* Fills in missing values (using different strategies for continuous vs. categorical features)\n",
    "* Scales continuous features to a range of 0 to 1\n",
    "* Dummy encodes categorical features\n",
    "* Combines the preprocessed continuous and categorical features back together"
   ]
  },
  {
   "cell_type": "code",
   "execution_count": 2,
   "metadata": {},
   "outputs": [],
   "source": [
    "# Run this cell without changes\n",
    "import numpy as np\n",
    "from sklearn.impute import SimpleImputer\n",
    "from sklearn.model_selection import train_test_split\n",
    "from sklearn.preprocessing import MinMaxScaler, OneHotEncoder\n",
    "\n",
    "# Create X and y\n",
    "y = df['SalePrice']\n",
    "X = df.drop(columns=['SalePrice'])\n",
    "\n",
    "# Split data into training and test sets\n",
    "X_train, X_test, y_train, y_test = train_test_split(X, y, random_state=10)\n",
    "\n",
    "# Separate X data into continuous vs. categorical\n",
    "X_train_cont = X_train.select_dtypes(include='number')\n",
    "X_test_cont = X_test.select_dtypes(include='number')\n",
    "X_train_cat = X_train.select_dtypes(exclude='number')\n",
    "X_test_cat = X_test.select_dtypes(exclude='number')\n",
    "\n",
    "# Impute missing values using SimpleImputer, median for continuous and\n",
    "# filling in 'missing' for categorical\n",
    "impute_cont = SimpleImputer(strategy='median')\n",
    "X_train_cont = impute_cont.fit_transform(X_train_cont)\n",
    "X_test_cont = impute_cont.transform(X_test_cont)\n",
    "impute_cat = SimpleImputer(strategy='constant', fill_value='missing')\n",
    "X_train_cat = impute_cat.fit_transform(X_train_cat)\n",
    "X_test_cat = impute_cat.transform(X_test_cat)\n",
    "\n",
    "# Scale continuous values using MinMaxScaler\n",
    "scaler = MinMaxScaler()\n",
    "X_train_cont = scaler.fit_transform(X_train_cont)\n",
    "X_test_cont = scaler.transform(X_test_cont)\n",
    "\n",
    "# Dummy encode categorical values using OneHotEncoder\n",
    "ohe = OneHotEncoder(handle_unknown='ignore')\n",
    "X_train_cat = ohe.fit_transform(X_train_cat)\n",
    "X_test_cat = ohe.transform(X_test_cat)\n",
    "\n",
    "# Combine everything back together\n",
    "X_train_preprocessed = np.asarray(np.concatenate([X_train_cont, X_train_cat.todense()], axis=1))\n",
    "X_test_preprocessed = np.asarray(np.concatenate([X_test_cont, X_test_cat.todense()], axis=1))"
   ]
  },
  {
   "cell_type": "markdown",
   "metadata": {},
   "source": [
    "## Linear Regression Model\n",
    "\n",
    "Let's use this data to build a first naive linear regression model. Fit the model on the training data (`X_train_preprocessed`), then compute the R-Squared and the MSE for both the training and test sets."
   ]
  },
  {
   "cell_type": "code",
   "execution_count": 6,
   "metadata": {},
   "outputs": [
    {
     "name": "stdout",
     "output_type": "stream",
     "text": [
      "Rsquares (train): 0.935829606084409\n",
      "Rsquares (test): -1.5629009915711316e+18\n",
      "MSE (train): 403055499.2149543\n",
      "MSE (test): 9.971597633833245e+27\n"
     ]
    }
   ],
   "source": [
    "# Replace None with appropriate code\n",
    "from sklearn.metrics import mean_squared_error,r2_score\n",
    "from sklearn.linear_model import LinearRegression\n",
    "\n",
    "# Fit the model\n",
    "linreg = LinearRegression()\n",
    "\n",
    "# Print R2 and MSE for training and test sets\n",
    "lr_pred = linreg.fit(X_train_preprocessed, y_train)\n",
    "y_train_pred = linreg.predict(X_train_preprocessed)\n",
    "y_test_pred = linreg.predict(X_test_preprocessed)\n",
    "\n",
    "print(f'Rsquares (train): {r2_score(y_train, y_train_pred)}')\n",
    "print(f'Rsquares (test): {r2_score(y_test, y_test_pred)}')\n",
    "print(f'MSE (train): {mean_squared_error(y_train, y_train_pred)}')\n",
    "print(f'MSE (test): {mean_squared_error(y_test, y_test_pred)}')"
   ]
  },
  {
   "cell_type": "markdown",
   "metadata": {},
   "source": [
    "Notice the severe overfitting above; our training R-Squared is very high, but the test R-Squared is negative! Similarly, the scale of the test MSE is orders of magnitude higher than that of the training MSE."
   ]
  },
  {
   "cell_type": "markdown",
   "metadata": {},
   "source": [
    "## Ridge and Lasso Regression"
   ]
  },
  {
   "cell_type": "markdown",
   "metadata": {},
   "source": [
    "Use all the data (scaled features and dummy categorical variables, `X_train_preprocessed`) to build some models with regularization - two each for lasso and ridge regression. Each time, look at R-Squared and MSE.\n",
    "\n",
    "Remember that you can use the scikit-learn documentation if you don't remember how to import or use these classes:\n",
    "\n",
    "* [`Lasso` documentation](https://scikit-learn.org/stable/modules/generated/sklearn.linear_model.Lasso.html)\n",
    "* [`Ridge` documentation](https://scikit-learn.org/stable/modules/generated/sklearn.linear_model.Ridge.html)"
   ]
  },
  {
   "cell_type": "markdown",
   "metadata": {},
   "source": [
    "### Lasso"
   ]
  },
  {
   "cell_type": "markdown",
   "metadata": {},
   "source": [
    "#### With default hyperparameters (`alpha` = 1)"
   ]
  },
  {
   "cell_type": "code",
   "execution_count": 11,
   "metadata": {},
   "outputs": [
    {
     "name": "stdout",
     "output_type": "stream",
     "text": [
      "Lasso Train MSE: 403443180.2665612\n",
      "Lasso Test MSE: 704367122.4118732\n"
     ]
    }
   ],
   "source": [
    "# Your code here\n",
    "from sklearn.linear_model import Lasso\n",
    "lasso = Lasso(alpha=1)\n",
    "lasso.fit(X_train_preprocessed,y_train)\n",
    "l_train_y_pred = lasso.predict(X_train_preprocessed)\n",
    "l_test_y_pred = lasso.predict(X_test_preprocessed)\n",
    "print(f'Lasso Train MSE: {mean_squared_error(y_train,l_train_y_pred)}')\n",
    "print(f'Lasso Test MSE: {mean_squared_error(y_test,l_test_y_pred)}')"
   ]
  },
  {
   "cell_type": "markdown",
   "metadata": {},
   "source": [
    "#### With a higher regularization hyperparameter (`alpha` = 10)"
   ]
  },
  {
   "cell_type": "code",
   "execution_count": 15,
   "metadata": {},
   "outputs": [
    {
     "name": "stdout",
     "output_type": "stream",
     "text": [
      "Lasso Hyperparameter Train MSE: 414404517.191667\n",
      "Lasso Hyperparameter Test MSE: 650157273.4932035\n"
     ]
    }
   ],
   "source": [
    "# Your code here\n",
    "lasso = Lasso(alpha=10)\n",
    "lasso.fit(X_train_preprocessed,y_train)\n",
    "l10_train_y_pred = lasso.predict(X_train_preprocessed)\n",
    "l10_test_y_pred = lasso.predict(X_test_preprocessed)\n",
    "print(f'Lasso Hyperparameter Train MSE: {mean_squared_error(y_train,l10_train_y_pred)}')\n",
    "print(f'Lasso Hyperparameter Test MSE: {mean_squared_error(y_test,l10_test_y_pred)}')\n"
   ]
  },
  {
   "cell_type": "markdown",
   "metadata": {},
   "source": [
    "## Ridge"
   ]
  },
  {
   "cell_type": "markdown",
   "metadata": {},
   "source": [
    "#### With default hyperparameters (`alpha` = 1)"
   ]
  },
  {
   "cell_type": "code",
   "execution_count": 16,
   "metadata": {},
   "outputs": [
    {
     "name": "stdout",
     "output_type": "stream",
     "text": [
      "Ridge Train MSE: 497616506.0742804\n",
      "Ridge Test MSE: 724504516.4583948\n"
     ]
    }
   ],
   "source": [
    "# Your code here\n",
    "from sklearn.linear_model import Ridge\n",
    "ridge = Ridge(alpha=1)\n",
    "ridge.fit(X_train_preprocessed,y_train)\n",
    "r_train_y_pred = ridge.predict(X_train_preprocessed)\n",
    "r_test_y_pred = ridge.predict(X_test_preprocessed)\n",
    "print(f'Ridge Train MSE: {mean_squared_error(y_train, r_train_y_pred)}')\n",
    "print(f'Ridge Test MSE: {mean_squared_error(y_test, r_test_y_pred)}')\n",
    "\n"
   ]
  },
  {
   "cell_type": "markdown",
   "metadata": {},
   "source": [
    "#### With higher regularization hyperparameter (`alpha` = 10)"
   ]
  },
  {
   "cell_type": "code",
   "execution_count": 17,
   "metadata": {},
   "outputs": [
    {
     "name": "stdout",
     "output_type": "stream",
     "text": [
      "Ridge Hyperparameter Train MSE: 697520320.9975773\n",
      "Ridge Hyperparameter Test MSE: 768710500.289667\n"
     ]
    }
   ],
   "source": [
    "# Your code here\n",
    "ridge = Ridge(alpha=10)\n",
    "ridge.fit(X_train_preprocessed,y_train)\n",
    "r10_train_y_pred = ridge.predict(X_train_preprocessed)\n",
    "r10_test_y_pred = ridge.predict(X_test_preprocessed)\n",
    "print(f'Ridge Hyperparameter Train MSE: {mean_squared_error(y_train, r10_train_y_pred)}')\n",
    "print(f'Ridge Hyperparameter Test MSE: {mean_squared_error(y_test, r10_test_y_pred)}')\n",
    "\n"
   ]
  },
  {
   "cell_type": "markdown",
   "metadata": {},
   "source": [
    "## Comparing the Metrics    \n",
    "\n",
    "Which model seems best, based on the metrics?"
   ]
  },
  {
   "cell_type": "code",
   "execution_count": 19,
   "metadata": {},
   "outputs": [
    {
     "data": {
      "text/plain": [
       "' \\n- Ridge and Lasso hyperparameters do better as they have better MSE \\n'"
      ]
     },
     "execution_count": 19,
     "metadata": {},
     "output_type": "execute_result"
    }
   ],
   "source": [
    "# Write your conclusions here:\n",
    "''' \n",
    "- Ridge and Lasso hyperparameters do better as they have better MSE \n",
    "'''\n"
   ]
  },
  {
   "cell_type": "markdown",
   "metadata": {},
   "source": [
    "<details>\n",
    "    <summary style=\"cursor: pointer\"><b>Answer (click to reveal)</b></summary>\n",
    "\n",
    "In terms of both R-Squared and MSE, the `Lasso` model with `alpha`=10 has the best metric results.\n",
    "\n",
    "(Remember that better R-Squared is higher, whereas better MSE is lower.)\n",
    "\n",
    "</details>"
   ]
  },
  {
   "cell_type": "markdown",
   "metadata": {},
   "source": [
    "## Comparing the Parameters\n",
    "\n",
    "Compare the number of parameter estimates that are (very close to) 0 for the `Ridge` and `Lasso` models with `alpha`=10.\n",
    "\n",
    "Use 10**(-10) as an estimate that is very close to 0. "
   ]
  },
  {
   "cell_type": "code",
   "execution_count": 28,
   "metadata": {},
   "outputs": [
    {
     "data": {
      "text/plain": [
       "array([-2.48766856e+04, -1.90647101e+04, -1.72199465e+04, -1.69724235e+04,\n",
       "       -1.33713839e+04, -1.23627197e+04, -1.16094420e+04, -1.09848853e+04,\n",
       "       -1.07504483e+04, -9.43397135e+03, -9.39960271e+03, -9.09537200e+03,\n",
       "       -8.66468741e+03, -8.54326142e+03, -8.46990202e+03, -8.39711605e+03,\n",
       "       -8.36850394e+03, -8.35483826e+03, -8.22210501e+03, -8.12907585e+03,\n",
       "       -8.11793197e+03, -7.60883375e+03, -7.50413387e+03, -7.34426122e+03,\n",
       "       -7.31325993e+03, -7.30789783e+03, -7.13471594e+03, -6.99450576e+03,\n",
       "       -6.55188564e+03, -6.30398239e+03, -6.22940851e+03, -6.17008336e+03,\n",
       "       -5.92654512e+03, -5.52840301e+03, -5.48324259e+03, -5.46559060e+03,\n",
       "       -5.28590640e+03, -5.27208533e+03, -5.22718507e+03, -5.03056828e+03,\n",
       "       -4.89955208e+03, -4.84002962e+03, -4.75588871e+03, -4.62143466e+03,\n",
       "       -4.50560028e+03, -4.48568793e+03, -4.45561762e+03, -4.44579708e+03,\n",
       "       -4.40002346e+03, -4.23487656e+03, -4.12965007e+03, -4.03327136e+03,\n",
       "       -4.02535860e+03, -4.01957678e+03, -3.92762291e+03, -3.88443403e+03,\n",
       "       -3.63687281e+03, -3.56870849e+03, -3.56806975e+03, -3.53474477e+03,\n",
       "       -3.39212406e+03, -3.31828984e+03, -3.26797022e+03, -3.12655237e+03,\n",
       "       -3.06645961e+03, -3.01319021e+03, -2.85075477e+03, -2.78515615e+03,\n",
       "       -2.70201916e+03, -2.66097686e+03, -2.65654563e+03, -2.65185945e+03,\n",
       "       -2.57657243e+03, -2.53693971e+03, -2.38806348e+03, -2.37177001e+03,\n",
       "       -2.37177001e+03, -2.37177001e+03, -2.37177001e+03, -2.37177001e+03,\n",
       "       -2.37050997e+03, -2.36269842e+03, -2.36048458e+03, -2.27068632e+03,\n",
       "       -2.20084053e+03, -2.16089889e+03, -2.11514765e+03, -2.10322673e+03,\n",
       "       -2.09127189e+03, -2.07964957e+03, -2.07403417e+03, -2.05353483e+03,\n",
       "       -2.01197479e+03, -1.98547141e+03, -1.94566125e+03, -1.93882241e+03,\n",
       "       -1.92093855e+03, -1.88629510e+03, -1.85655514e+03, -1.84231665e+03,\n",
       "       -1.80549079e+03, -1.78304237e+03, -1.75161252e+03, -1.69603053e+03,\n",
       "       -1.67196929e+03, -1.64910281e+03, -1.51118689e+03, -1.51028488e+03,\n",
       "       -1.46624755e+03, -1.42711259e+03, -1.41612715e+03, -1.39891888e+03,\n",
       "       -1.35936822e+03, -1.33630923e+03, -1.30911089e+03, -1.27925770e+03,\n",
       "       -1.27525748e+03, -1.09423711e+03, -1.06980564e+03, -1.06940628e+03,\n",
       "       -1.02739615e+03, -1.01430443e+03, -9.37581640e+02, -9.15441050e+02,\n",
       "       -8.60584193e+02, -8.02351121e+02, -7.89235399e+02, -7.87110054e+02,\n",
       "       -7.01287018e+02, -6.67796132e+02, -6.59158324e+02, -6.17126568e+02,\n",
       "       -5.65928104e+02, -5.62833739e+02, -5.26258483e+02, -4.93113183e+02,\n",
       "       -4.70796313e+02, -4.35545786e+02, -4.22035348e+02, -4.06026707e+02,\n",
       "       -3.36273588e+02, -3.26730123e+02, -3.23058894e+02, -3.15262089e+02,\n",
       "       -2.92781744e+02, -2.92781744e+02, -2.92781744e+02, -2.92781744e+02,\n",
       "       -2.87272265e+02, -2.81874110e+02, -2.69668155e+02, -2.62210477e+02,\n",
       "       -2.08042510e+02, -8.37004380e+01, -3.34059742e+01, -4.93034317e+00,\n",
       "        8.34745450e+01,  8.34745450e+01,  1.23529162e+02,  2.06856113e+02,\n",
       "        2.19900892e+02,  2.66480872e+02,  3.26922699e+02,  3.55262578e+02,\n",
       "        4.67389016e+02,  4.84370216e+02,  4.92010100e+02,  5.03014983e+02,\n",
       "        5.57263111e+02,  6.22183704e+02,  6.39204936e+02,  6.40674211e+02,\n",
       "        6.86884992e+02,  7.00186263e+02,  7.14425848e+02,  7.43791992e+02,\n",
       "        8.26870107e+02,  8.56935760e+02,  8.84850732e+02,  9.34600672e+02,\n",
       "        9.40848990e+02,  9.84569175e+02,  1.02251095e+03,  1.11247291e+03,\n",
       "        1.22681548e+03,  1.31595820e+03,  1.36738544e+03,  1.38020685e+03,\n",
       "        1.39063220e+03,  1.44391340e+03,  1.44601142e+03,  1.55301893e+03,\n",
       "        1.57147011e+03,  1.58842196e+03,  1.65470734e+03,  1.65573988e+03,\n",
       "        1.66281139e+03,  1.67554640e+03,  1.70987960e+03,  1.77973891e+03,\n",
       "        1.83340672e+03,  1.88936483e+03,  1.94589525e+03,  1.94717693e+03,\n",
       "        2.01653850e+03,  2.13745067e+03,  2.27068632e+03,  2.36130644e+03,\n",
       "        2.57248156e+03,  2.57729965e+03,  2.77391788e+03,  2.82636015e+03,\n",
       "        2.84000424e+03,  2.86063379e+03,  2.94201554e+03,  3.14190888e+03,\n",
       "        3.14502094e+03,  3.26797022e+03,  3.29439633e+03,  3.29565630e+03,\n",
       "        3.32201093e+03,  3.45693553e+03,  3.56677002e+03,  3.89527146e+03,\n",
       "        3.91017656e+03,  3.95324801e+03,  3.95481200e+03,  4.01542850e+03,\n",
       "        4.03135013e+03,  4.04015984e+03,  4.08620321e+03,  4.09620776e+03,\n",
       "        4.12508512e+03,  4.34065392e+03,  4.45561762e+03,  4.46485417e+03,\n",
       "        4.51340811e+03,  4.68970783e+03,  4.75400925e+03,  4.80472181e+03,\n",
       "        4.89487844e+03,  5.00766963e+03,  5.18529729e+03,  5.31381292e+03,\n",
       "        5.51089980e+03,  5.62745393e+03,  5.94355753e+03,  6.01554131e+03,\n",
       "        6.23246856e+03,  6.36956772e+03,  6.54480367e+03,  6.82105825e+03,\n",
       "        6.85625585e+03,  6.93814514e+03,  7.20180260e+03,  7.22706064e+03,\n",
       "        7.54364786e+03,  7.95228967e+03,  7.97579533e+03,  8.23406129e+03,\n",
       "        9.13524125e+03,  9.46050268e+03,  1.03853451e+04,  1.07415151e+04,\n",
       "        1.17312621e+04,  1.22128513e+04,  1.31679490e+04,  1.31831131e+04,\n",
       "        1.34679353e+04,  1.37474584e+04,  1.40430971e+04,  1.46335542e+04,\n",
       "        1.49396283e+04,  1.50996246e+04,  1.59651358e+04,  1.59655276e+04,\n",
       "        1.75169779e+04,  1.77850123e+04,  1.84143961e+04,  1.89150808e+04,\n",
       "        2.02204122e+04,  2.15593374e+04,  2.17152384e+04,  2.23338888e+04,\n",
       "        2.55633592e+04,  2.62002008e+04,  2.99314563e+04,  3.00391895e+04,\n",
       "        3.23003435e+04,  3.23853667e+04,  3.90669910e+04,  4.00237645e+04,\n",
       "        4.35327856e+04,  4.62891729e+04])"
      ]
     },
     "execution_count": 28,
     "metadata": {},
     "output_type": "execute_result"
    }
   ],
   "source": [
    "# Number of Ridge params almost zero\n",
    "r_fit = ridge.fit(X_train_preprocessed,y_train)\n",
    "r_fit_arr = np.array(r_fit.coef_)\n",
    "r_fit_arr_sort = np.sort(r_fit_arr)\n",
    "r_fit_arr_sort\n"
   ]
  },
  {
   "cell_type": "code",
   "execution_count": 30,
   "metadata": {},
   "outputs": [
    {
     "data": {
      "text/plain": [
       "array([-1.23779427e+05, -3.28251098e+04, -1.42879518e+04, -8.41318441e+03,\n",
       "       -8.30263569e+03, -8.10385811e+03, -7.17776548e+03, -5.84293874e+03,\n",
       "       -4.67628781e+03, -4.66635856e+03, -3.55649183e+03, -3.21693356e+03,\n",
       "       -2.83045249e+03, -2.21846680e+03, -1.85832011e+03, -1.67383726e+03,\n",
       "       -1.54424011e+03, -1.47143313e+03, -1.46787623e+03, -1.29873906e+03,\n",
       "       -1.16752175e+03, -1.14703777e+03, -1.14250094e+03, -1.09355106e+03,\n",
       "       -6.08375840e+02, -5.67738617e+02, -0.00000000e+00, -0.00000000e+00,\n",
       "        0.00000000e+00, -0.00000000e+00, -0.00000000e+00, -0.00000000e+00,\n",
       "        0.00000000e+00,  0.00000000e+00,  0.00000000e+00,  0.00000000e+00,\n",
       "       -0.00000000e+00, -0.00000000e+00, -0.00000000e+00, -0.00000000e+00,\n",
       "       -0.00000000e+00, -0.00000000e+00, -0.00000000e+00, -0.00000000e+00,\n",
       "        0.00000000e+00, -0.00000000e+00,  0.00000000e+00, -0.00000000e+00,\n",
       "       -0.00000000e+00,  0.00000000e+00,  0.00000000e+00,  0.00000000e+00,\n",
       "        0.00000000e+00,  0.00000000e+00, -0.00000000e+00,  0.00000000e+00,\n",
       "       -0.00000000e+00,  0.00000000e+00, -0.00000000e+00,  0.00000000e+00,\n",
       "       -0.00000000e+00,  0.00000000e+00, -0.00000000e+00, -0.00000000e+00,\n",
       "       -0.00000000e+00, -0.00000000e+00, -0.00000000e+00, -0.00000000e+00,\n",
       "       -0.00000000e+00,  0.00000000e+00,  0.00000000e+00,  0.00000000e+00,\n",
       "       -0.00000000e+00,  0.00000000e+00, -0.00000000e+00, -0.00000000e+00,\n",
       "        0.00000000e+00,  0.00000000e+00, -0.00000000e+00,  0.00000000e+00,\n",
       "       -0.00000000e+00,  0.00000000e+00, -0.00000000e+00,  0.00000000e+00,\n",
       "        0.00000000e+00,  0.00000000e+00,  0.00000000e+00, -0.00000000e+00,\n",
       "        0.00000000e+00, -0.00000000e+00, -0.00000000e+00,  0.00000000e+00,\n",
       "        0.00000000e+00, -0.00000000e+00,  0.00000000e+00, -0.00000000e+00,\n",
       "       -0.00000000e+00,  0.00000000e+00, -0.00000000e+00, -0.00000000e+00,\n",
       "        0.00000000e+00, -0.00000000e+00, -0.00000000e+00, -0.00000000e+00,\n",
       "        0.00000000e+00,  0.00000000e+00, -0.00000000e+00,  0.00000000e+00,\n",
       "       -0.00000000e+00, -0.00000000e+00, -0.00000000e+00, -0.00000000e+00,\n",
       "       -0.00000000e+00, -0.00000000e+00, -0.00000000e+00, -0.00000000e+00,\n",
       "       -0.00000000e+00, -0.00000000e+00, -0.00000000e+00,  0.00000000e+00,\n",
       "       -0.00000000e+00, -0.00000000e+00, -0.00000000e+00, -0.00000000e+00,\n",
       "        0.00000000e+00,  0.00000000e+00, -0.00000000e+00, -0.00000000e+00,\n",
       "       -0.00000000e+00, -0.00000000e+00, -0.00000000e+00,  0.00000000e+00,\n",
       "       -0.00000000e+00,  0.00000000e+00, -0.00000000e+00,  0.00000000e+00,\n",
       "       -0.00000000e+00, -0.00000000e+00,  0.00000000e+00, -0.00000000e+00,\n",
       "        0.00000000e+00,  0.00000000e+00,  0.00000000e+00, -0.00000000e+00,\n",
       "       -0.00000000e+00, -0.00000000e+00,  0.00000000e+00,  0.00000000e+00,\n",
       "        0.00000000e+00,  0.00000000e+00, -0.00000000e+00, -0.00000000e+00,\n",
       "       -0.00000000e+00,  0.00000000e+00,  0.00000000e+00, -0.00000000e+00,\n",
       "       -0.00000000e+00, -0.00000000e+00,  0.00000000e+00, -0.00000000e+00,\n",
       "       -0.00000000e+00, -0.00000000e+00, -0.00000000e+00,  0.00000000e+00,\n",
       "       -0.00000000e+00, -0.00000000e+00, -0.00000000e+00,  0.00000000e+00,\n",
       "        0.00000000e+00,  0.00000000e+00,  0.00000000e+00,  0.00000000e+00,\n",
       "        0.00000000e+00,  0.00000000e+00,  0.00000000e+00,  0.00000000e+00,\n",
       "        0.00000000e+00,  0.00000000e+00,  0.00000000e+00,  0.00000000e+00,\n",
       "        0.00000000e+00, -0.00000000e+00,  0.00000000e+00,  0.00000000e+00,\n",
       "        0.00000000e+00, -0.00000000e+00,  0.00000000e+00,  0.00000000e+00,\n",
       "        0.00000000e+00, -0.00000000e+00,  0.00000000e+00,  0.00000000e+00,\n",
       "       -0.00000000e+00, -0.00000000e+00,  0.00000000e+00,  0.00000000e+00,\n",
       "       -0.00000000e+00,  0.00000000e+00, -0.00000000e+00, -0.00000000e+00,\n",
       "       -0.00000000e+00, -0.00000000e+00,  0.00000000e+00, -0.00000000e+00,\n",
       "       -0.00000000e+00,  0.00000000e+00,  0.00000000e+00, -0.00000000e+00,\n",
       "        0.00000000e+00, -0.00000000e+00, -0.00000000e+00, -0.00000000e+00,\n",
       "       -0.00000000e+00, -0.00000000e+00, -0.00000000e+00,  0.00000000e+00,\n",
       "       -0.00000000e+00, -0.00000000e+00,  0.00000000e+00, -0.00000000e+00,\n",
       "       -0.00000000e+00, -0.00000000e+00, -0.00000000e+00, -0.00000000e+00,\n",
       "        0.00000000e+00,  0.00000000e+00, -0.00000000e+00,  0.00000000e+00,\n",
       "        0.00000000e+00,  0.00000000e+00,  0.00000000e+00,  0.00000000e+00,\n",
       "       -0.00000000e+00,  0.00000000e+00, -0.00000000e+00,  0.00000000e+00,\n",
       "       -0.00000000e+00,  0.00000000e+00,  0.00000000e+00, -0.00000000e+00,\n",
       "       -0.00000000e+00,  0.00000000e+00,  4.97590706e-13,  2.47617476e+01,\n",
       "        2.31139924e+02,  2.54229414e+02,  2.55304070e+02,  4.91602201e+02,\n",
       "        5.00779547e+02,  8.35856083e+02,  8.99743615e+02,  9.09024899e+02,\n",
       "        1.01926229e+03,  1.22618010e+03,  1.23560626e+03,  1.73439567e+03,\n",
       "        1.76589335e+03,  1.83345504e+03,  2.01314517e+03,  2.55706323e+03,\n",
       "        2.67631467e+03,  3.63779206e+03,  4.45357852e+03,  5.68178428e+03,\n",
       "        6.26956089e+03,  6.37838928e+03,  6.61586580e+03,  6.74127233e+03,\n",
       "        8.26340364e+03,  9.25771644e+03,  9.44573697e+03,  1.00054264e+04,\n",
       "        1.02781839e+04,  1.08972787e+04,  1.12108245e+04,  1.12366799e+04,\n",
       "        1.13509755e+04,  1.20636138e+04,  1.22228301e+04,  1.42249032e+04,\n",
       "        1.56876462e+04,  1.65526822e+04,  1.66341748e+04,  1.85151347e+04,\n",
       "        2.25520326e+04,  2.27082076e+04,  2.71992212e+04,  3.15925228e+04,\n",
       "        3.18737301e+04,  3.88831006e+04,  4.61886001e+04,  5.13133410e+04,\n",
       "        7.51491492e+04,  2.03795488e+05])"
      ]
     },
     "execution_count": 30,
     "metadata": {},
     "output_type": "execute_result"
    }
   ],
   "source": [
    "# Number of Lasso params almost zero\n",
    "l_fit = lasso.fit(X_train_preprocessed,y_train)\n",
    "l_fit_arr = l_fit.coef_\n",
    "l_fit_arr_sort = np.sort(l_fit_arr)\n",
    "l_fit_arr_sort"
   ]
  },
  {
   "cell_type": "code",
   "execution_count": null,
   "metadata": {},
   "outputs": [],
   "source": [
    "# Compare and interpret these results\n"
   ]
  },
  {
   "cell_type": "markdown",
   "metadata": {},
   "source": [
    "<details>\n",
    "    <summary style=\"cursor: pointer\"><b>Answer (click to reveal)</b></summary>\n",
    "\n",
    "The ridge model did not penalize any coefficients to 0, while the lasso model removed about 1/4 of the coefficients. The lasso model essentially performed variable selection for us, and got the best metrics as a result!\n",
    "\n",
    "</details>"
   ]
  },
  {
   "cell_type": "markdown",
   "metadata": {},
   "source": [
    "## Finding an Optimal Alpha\n",
    "\n",
    "Earlier we tested two values of `alpha` to see how it affected our MSE and the value of our coefficients. We could continue to guess values of `alpha` for our ridge or lasso regression one at a time to see which values minimize our loss, or we can test a range of values and pick the alpha which minimizes our MSE. Here is an example of how we would do this:  "
   ]
  },
  {
   "cell_type": "code",
   "execution_count": 18,
   "metadata": {},
   "outputs": [
    {
     "name": "stdout",
     "output_type": "stream",
     "text": [
      "Optimal Alpha Value: 28\n"
     ]
    },
    {
     "data": {
      "image/png": "[encoded data removed]",
      "text/plain": [
       "<Figure size 432x288 with 1 Axes>"
      ]
     },
     "metadata": {
      "needs_background": "light"
     },
     "output_type": "display_data"
    }
   ],
   "source": [
    "# Run this cell without changes\n",
    "import matplotlib.pyplot as plt\n",
    "%matplotlib inline\n",
    "\n",
    "train_mse = []\n",
    "test_mse = []\n",
    "alphas = np.linspace(0, 200, num=50)\n",
    "\n",
    "for alpha in alphas:\n",
    "    lasso = Lasso(alpha=alpha)\n",
    "    lasso.fit(X_train_preprocessed, y_train)\n",
    "    \n",
    "    train_preds = lasso.predict(X_train_preprocessed)\n",
    "    train_mse.append(mean_squared_error(y_train, train_preds))\n",
    "    \n",
    "    test_preds = lasso.predict(X_test_preprocessed)\n",
    "    test_mse.append(mean_squared_error(y_test, test_preds))\n",
    "\n",
    "fig, ax = plt.subplots()\n",
    "ax.plot(alphas, train_mse, label='Train')\n",
    "ax.plot(alphas, test_mse, label='Test')\n",
    "ax.set_xlabel('alpha')\n",
    "ax.set_ylabel('MSE')\n",
    "\n",
    "# np.argmin() returns the index of the minimum value in a list\n",
    "optimal_alpha = alphas[np.argmin(test_mse)]\n",
    "\n",
    "# Add a vertical line where the test MSE is minimized\n",
    "ax.axvline(optimal_alpha, color='black', linestyle='--')\n",
    "ax.legend();\n",
    "\n",
    "print(f'Optimal Alpha Value: {int(optimal_alpha)}')"
   ]
  },
  {
   "cell_type": "markdown",
   "metadata": {},
   "source": [
    "Take a look at this graph of our training and test MSE against `alpha`. Try to explain to yourself why the shapes of the training and test curves are this way. Make sure to think about what `alpha` represents and how it relates to overfitting vs underfitting.\n",
    "\n",
    "---\n",
    "\n",
    "<details>\n",
    "    <summary style=\"cursor: pointer\"><b>Answer (click to reveal)</b></summary>\n",
    "\n",
    "For `alpha` values below 28, the model is overfitting. As `alpha` increases up to 28, the MSE for the training data increases and MSE for the test data decreases, indicating that we are reducing overfitting.\n",
    "\n",
    "For `alpha` values above 28, the model is starting to underfit. You can tell because _both_ the train and the test MSE values are increasing.\n",
    "\n",
    "</details>"
   ]
  },
  {
   "cell_type": "markdown",
   "metadata": {},
   "source": [
    "## Summary\n",
    "\n",
    "Well done! You now know how to build lasso and ridge regression models, use them for feature selection and find an optimal value for `alpha`. "
   ]
  }
 ],
 "metadata": {
  "kernelspec": {
   "display_name": "Python (learn-env)",
   "language": "python",
   "name": "learn-env"
  },
  "language_info": {
   "codemirror_mode": {
    "name": "ipython",
    "version": 3
   },
   "file_extension": ".py",
   "mimetype": "text/x-python",
   "name": "python",
   "nbconvert_exporter": "python",
   "pygments_lexer": "ipython3",
   "version": "3.8.5"
  }
 },
 "nbformat": 4,
 "nbformat_minor": 2
}
